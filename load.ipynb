{
 "cells": [
  {
   "cell_type": "code",
   "execution_count": 23,
   "metadata": {},
   "outputs": [
    {
     "name": "stdout",
     "output_type": "stream",
     "text": [
      "22ba3fce-4f11-4cfd-b341-bd8e9a2856c5\n"
     ]
    }
   ],
   "source": [
    "from dotenv import load_dotenv\n",
    "import os\n",
    "load_dotenv()\n",
    "print(os.getenv(\"PINECONE_API_KEY\"))\n",
    "\n",
    "import openai\n",
    "from pinecone import Pinecone, ServerlessSpec\n"
   ]
  },
  {
   "cell_type": "code",
   "execution_count": 24,
   "metadata": {},
   "outputs": [],
   "source": [
    "# pc = Pinecone(api_key=os.getenv(\"PINECONE_API_KEY\"))\n",
    "pc = Pinecone(api_key=os.getenv(\"PINECONE_API_KEY\"))\n",
    "\n",
    "pc.create_index(\n",
    "    name=\"rag\", dimension=1536,metric=\"cosine\", spec=ServerlessSpec(cloud=\"aws\", region=\"us-east-1\")\n",
    ")\n"
   ]
  },
  {
   "cell_type": "code",
   "execution_count": 28,
   "metadata": {},
   "outputs": [
    {
     "data": {
      "text/plain": [
       "[{'professor': 'Dr. John Smith',\n",
       "  'subject': 'Data Structures',\n",
       "  'stars': 5,\n",
       "  'review': 'Excellent teacher, really knows how to explain complex concepts.'},\n",
       " {'professor': 'Dr. Emily Johnson',\n",
       "  'subject': 'Algorithms',\n",
       "  'stars': 4,\n",
       "  'review': 'Great course, but sometimes the assignments were too challenging.'},\n",
       " {'professor': 'Dr. Michael Brown',\n",
       "  'subject': 'Operating Systems',\n",
       "  'stars': 3,\n",
       "  'review': 'Good lectures but the exams were very tough.'},\n",
       " {'professor': 'Dr. Sarah Davis',\n",
       "  'subject': 'Computer Networks',\n",
       "  'stars': 5,\n",
       "  'review': 'Amazing professor, made networking concepts very clear.'},\n",
       " {'professor': 'Dr. James Wilson',\n",
       "  'subject': 'Software Engineering',\n",
       "  'stars': 4,\n",
       "  'review': 'Very practical course with lots of real-world examples.'},\n",
       " {'professor': 'Dr. Patricia Miller',\n",
       "  'subject': 'Database Systems',\n",
       "  'stars': 4,\n",
       "  'review': 'Good course, but could have used more practical examples.'},\n",
       " {'professor': 'Dr. William Taylor',\n",
       "  'subject': 'Artificial Intelligence',\n",
       "  'stars': 5,\n",
       "  'review': 'Fantastic professor, made AI very accessible and interesting.'},\n",
       " {'professor': 'Dr. Linda Anderson',\n",
       "  'subject': 'Machine Learning',\n",
       "  'stars': 5,\n",
       "  'review': 'Great teacher, provided excellent resources and support.'},\n",
       " {'professor': 'Dr. Thomas Harris',\n",
       "  'subject': 'Computer Vision',\n",
       "  'stars': 3,\n",
       "  'review': 'Lectures were informative but the pace was too fast.'},\n",
       " {'professor': 'Dr. Barbara Clark',\n",
       "  'subject': 'Cryptography',\n",
       "  'stars': 4,\n",
       "  'review': 'Good course, but the exams were very difficult.'},\n",
       " {'professor': 'Dr. Robert Lewis',\n",
       "  'subject': 'Cybersecurity',\n",
       "  'stars': 4,\n",
       "  'review': 'Interesting course, but could have been more hands-on.'},\n",
       " {'professor': 'Dr. Jessica Walker',\n",
       "  'subject': 'Human-Computer Interaction',\n",
       "  'stars': 5,\n",
       "  'review': 'Engaging lectures and very interactive course.'},\n",
       " {'professor': 'Dr. Richard Hall',\n",
       "  'subject': 'Distributed Systems',\n",
       "  'stars': 3,\n",
       "  'review': 'Course material was dense, but the professor was very knowledgeable.'},\n",
       " {'professor': 'Dr. Karen Young',\n",
       "  'subject': 'Compiler Design',\n",
       "  'stars': 4,\n",
       "  'review': 'Challenging course, but the professor was very supportive.'},\n",
       " {'professor': 'Dr. Mark King',\n",
       "  'subject': 'Web Development',\n",
       "  'stars': 5,\n",
       "  'review': 'Excellent professor, very practical and hands-on course.'},\n",
       " {'professor': 'Dr. Susan Wright',\n",
       "  'subject': 'Mobile App Development',\n",
       "  'stars': 5,\n",
       "  'review': 'Great course, lots of practical examples and projects.'},\n",
       " {'professor': 'Dr. David Scott',\n",
       "  'subject': 'Big Data Analytics',\n",
       "  'stars': 4,\n",
       "  'review': 'Interesting course, but could have used more real-world examples.'},\n",
       " {'professor': 'Dr. Michelle Green',\n",
       "  'subject': 'Cloud Computing',\n",
       "  'stars': 5,\n",
       "  'review': 'Fantastic course, very relevant and up-to-date with industry trends.'},\n",
       " {'professor': 'Dr. Daniel Baker',\n",
       "  'subject': 'Software Testing',\n",
       "  'stars': 3,\n",
       "  'review': 'Good content, but the lectures were a bit dry.'},\n",
       " {'professor': 'Dr. Lisa Gonzalez',\n",
       "  'subject': 'Parallel Computing',\n",
       "  'stars': 4,\n",
       "  'review': 'Challenging course, but the professor explained the concepts very well.'},\n",
       " {'professor': 'Dr. Charles Nelson',\n",
       "  'subject': 'Embedded Systems',\n",
       "  'stars': 5,\n",
       "  'review': 'Excellent professor, made the course very interesting and engaging.'}]"
      ]
     },
     "execution_count": 28,
     "metadata": {},
     "output_type": "execute_result"
    }
   ],
   "source": [
    "import json\n",
    "data=json.load(open(\"reviews.json\"))\n",
    "data['reviews']"
   ]
  }
 ],
 "metadata": {
  "kernelspec": {
   "display_name": "rag",
   "language": "python",
   "name": "python3"
  },
  "language_info": {
   "codemirror_mode": {
    "name": "ipython",
    "version": 3
   },
   "file_extension": ".py",
   "mimetype": "text/x-python",
   "name": "python",
   "nbconvert_exporter": "python",
   "pygments_lexer": "ipython3",
   "version": "3.10.4"
  }
 },
 "nbformat": 4,
 "nbformat_minor": 2
}
